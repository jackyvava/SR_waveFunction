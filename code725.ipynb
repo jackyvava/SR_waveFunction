{
 "cells": [
  {
   "cell_type": "markdown",
   "metadata": {},
   "source": [
    "# TG涡"
   ]
  },
  {
   "cell_type": "markdown",
   "metadata": {},
   "source": [
    "函数 \\(a(x, y)\\)、\\(b(x, y)\\)、\\(c(x, y)\\) 和 \\(d(x, y)\\) 定义如下：\n",
    "\\begin{align*}\n",
    "    H(x) &= \n",
    "    \\begin{cases} \n",
    "      \\frac{x}{2} & \\text{如果 } 0 \\leq x \\leq \\pi \\\\\n",
    "      \\pi - \\frac{x}{2} & \\text{如果 } \\pi < x \\leq 2\\pi \n",
    "    \\end{cases} \\\\\n",
    "    a(x, y) &= \\cos[H(x)] \\cos\\left(\\frac{\\cos(y) (2 - \\cos(x))}{\\hbar}\\right), \\\\\n",
    "    b(x, y) &= \\cos[H(x)] \\sin\\left(\\frac{\\cos(y) (2 - \\cos(x))}{\\hbar}\\right), \\\\\n",
    "    c(x, y) &= \\sin[H(x)] \\cos\\left(\\frac{\\cos(y) (2 + \\cos(x))}{\\hbar}\\right), \\\\\n",
    "    d(x, y) &= -\\sin[H(x)] \\sin\\left(\\frac{\\cos(y) (2 + \\cos(x))}{\\hbar}\\right).\n",
    "\\end{align*}\n",
    "其中，$\\hbar $是一个常数（为了简化，设为1）。"
   ]
  },
  {
   "cell_type": "markdown",
   "metadata": {},
   "source": [
    "速度场计算\n",
    "$$\n",
    "\\mathbf{u} = \\hbar(a \\mathbf \\nabla b-b\\mathbf \\nabla a + c\\mathbf \\nabla d - d\\mathbf \\nabla c)\n",
    "$$\n",
    "\n",
    "速度场分量 $u_x$ 和 $u_y$ 使用 $a$、$b$、$c$、$d$ 的梯度计算得到：\n",
    "$$\n",
    "\\begin{align*}\n",
    "    \\nabla a &= \\left(\\frac{\\partial a}{\\partial x}, \\frac{\\partial a}{\\partial y}\\right), \\\\\n",
    "    \\nabla b &= \\left(\\frac{\\partial b}{\\partial x}, \\frac{\\partial b}{\\partial y}\\right), \\\\\n",
    "    \\nabla c &= \\left(\\frac{\\partial c}{\\partial x}, \\frac{\\partial c}{\\partial y}\\right), \\\\\n",
    "    \\nabla d &= \\left(\\frac{\\partial d}{\\partial x}, \\frac{\\partial d}{\\partial y}\\right).\n",
    "\\end{align*}\n",
    "$$"
   ]
  },
  {
   "cell_type": "markdown",
   "metadata": {},
   "source": [
    "速度场的计算公式为：\n",
    "\\begin{align*}\n",
    "    u_x &= \\hbar \\left(a \\frac{\\partial b}{\\partial x} - b \\frac{\\partial a}{\\partial x} + c \\frac{\\partial d}{\\partial x} - d \\frac{\\partial c}{\\partial x}\\right), \\\\\n",
    "    u_y &= \\hbar \\left(a \\frac{\\partial b}{\\partial y} - b \\frac{\\partial a}{\\partial y} + c \\frac{\\partial d}{\\partial y} - d \\frac{\\partial c}{\\partial y}\\right).\n",
    "\\end{align*}"
   ]
  },
  {
   "cell_type": "code",
   "execution_count": 5,
   "metadata": {},
   "outputs": [],
   "source": [
    "import numpy as np\n",
    "import matplotlib.pyplot as plt\n"
   ]
  },
  {
   "cell_type": "code",
   "execution_count": 6,
   "metadata": {},
   "outputs": [],
   "source": [
    "# 定义常数\n",
    "hbar = 1\n",
    "\n",
    "# 定义 H(x)\n",
    "def H(x):\n",
    "    return np.where((0 <= x) & (x <= np.pi), x / 2, np.pi - x / 2)\n",
    "\n",
    "# 定义函数 a, b, c, d\n",
    "def a(x, y):\n",
    "    return np.cos(H(x)) * np.cos(np.cos(y) * (2 - np.cos(x)) / hbar)\n",
    "\n",
    "def b(x, y):\n",
    "    return np.cos(H(x)) * np.sin(np.cos(y) * (2 - np.cos(x)) / hbar)\n",
    "\n",
    "def c(x, y):\n",
    "    return np.sin(H(x)) * np.cos(np.cos(y) * (2 + np.cos(x)) / hbar)\n",
    "\n",
    "def d(x, y):\n",
    "    return -np.sin(H(x)) * np.sin(np.cos(y) * (2 + np.cos(x)) / hbar)\n",
    "\n",
    "# 计算梯度\n",
    "def gradient(f, x, y, eps=1e-5):\n",
    "    f_x = (f(x + eps, y) - f(x - eps, y)) / (2 * eps)\n",
    "    f_y = (f(x, y + eps) - f(x, y - eps)) / (2 * eps)\n",
    "    return f_x, f_y\n",
    "\n"
   ]
  },
  {
   "cell_type": "code",
   "execution_count": 7,
   "metadata": {},
   "outputs": [],
   "source": [
    "# 计算速度场\n",
    "def compute_velocity_field_np(x, y, dx, dy):\n",
    "    # 使用内置的np 求解梯度\n",
    "    a_val = a(x, y)\n",
    "    b_val = b(x, y)\n",
    "    c_val = c(x, y)\n",
    "    d_val = d(x, y)\n",
    "\n",
    "    a_grad_x, a_grad_y = np.gradient(a_val, dx, dy)\n",
    "    b_grad_x, b_grad_y = np.gradient(b_val, dx, dy)\n",
    "    c_grad_x, c_grad_y = np.gradient(c_val, dx, dy)\n",
    "    d_grad_x, d_grad_y = np.gradient(d_val, dx, dy)\n",
    "\n",
    "    u_x = hbar * (a_val * b_grad_x - b_val * a_grad_x + c_val * d_grad_x - d_val * c_grad_x)\n",
    "    u_y = hbar * (a_val * b_grad_y - b_val * a_grad_y + c_val * d_grad_y - d_val * c_grad_y)\n",
    "\n",
    "    return u_x, u_y"
   ]
  },
  {
   "cell_type": "markdown",
   "metadata": {},
   "source": [
    "此处我们设定low像素:   $64\\times 64$\n",
    "\n",
    "设定High像素为    $1024\\times 1024$\n",
    "\n",
    "我们最终的目标是进行16倍的超分辨"
   ]
  },
  {
   "cell_type": "code",
   "execution_count": 8,
   "metadata": {},
   "outputs": [],
   "source": [
    "size_low = 64\n",
    "size_High = 1024\n",
    "x_low = np.linspace(0, 2 * np.pi, size_low)\n",
    "y_low = np.linspace(0, 2 * np.pi, size_low)\n",
    "\n",
    "x_high = np.linspace(0, 2 * np.pi, size_High)\n",
    "y_high = np.linspace(0, 2 * np.pi, size_High)\n",
    "\n",
    "\n",
    "X_low, Y_low = np.meshgrid(x_low, y_low)\n",
    "X_high, Y_high = np.meshgrid(x_high, y_high)"
   ]
  },
  {
   "cell_type": "code",
   "execution_count": 9,
   "metadata": {},
   "outputs": [],
   "source": [
    "# 计算函数值\n",
    "A_low = a(X_low, Y_low)\n",
    "B_low = b(X_low, Y_low)\n",
    "C_low = c(X_low, Y_low)\n",
    "D_low = d(X_low, Y_low)\n",
    "\n",
    "A_high = a(X_high, Y_high)\n",
    "B_high = b(X_high, Y_high)\n",
    "C_high = c(X_high, Y_high)\n",
    "D_high = d(X_high, Y_high)\n"
   ]
  },
  {
   "cell_type": "code",
   "execution_count": 10,
   "metadata": {},
   "outputs": [],
   "source": [
    "# 计算步长\n",
    "dx_low = x_low[1] - x_low[0]\n",
    "dy_low = y_low[1] - y_low[0]\n",
    "\n",
    "dx_high = x_high[1] - x_high[0]\n",
    "dy_high = y_high[1] - y_high[0]"
   ]
  },
  {
   "cell_type": "code",
   "execution_count": 16,
   "metadata": {},
   "outputs": [
    {
     "name": "stdout",
     "output_type": "stream",
     "text": [
      "查看ABCD低分辨率的形状\n",
      "(64, 64) (64, 64) (64, 64) (64, 64)\n",
      "查看ABCD高分辨率的形状\n",
      "(1024, 1024) (1024, 1024) (1024, 1024) (1024, 1024)\n",
      "dx的形状\n",
      "0.09973310011396169 0.09973310011396169\n",
      "0.00614192112138767 0.00614192112138767\n"
     ]
    }
   ],
   "source": [
    "print(\"查看ABCD低分辨率的形状\")\n",
    "print(A_low.shape,B_low.shape,C_low.shape,D_low.shape)\n",
    "\n",
    "print(\"查看ABCD高分辨率的形状\")\n",
    "print(A_high.shape,B_high.shape,C_high.shape,D_high.shape)\n",
    "\n",
    "print(\"dx的形状\")\n",
    "print(dx_low,dy_low)\n",
    "print(dx_high,dy_high)\n"
   ]
  },
  {
   "cell_type": "code",
   "execution_count": null,
   "metadata": {},
   "outputs": [],
   "source": []
  }
 ],
 "metadata": {
  "kernelspec": {
   "display_name": "pytorch",
   "language": "python",
   "name": "python3"
  },
  "language_info": {
   "codemirror_mode": {
    "name": "ipython",
    "version": 3
   },
   "file_extension": ".py",
   "mimetype": "text/x-python",
   "name": "python",
   "nbconvert_exporter": "python",
   "pygments_lexer": "ipython3",
   "version": "3.9.19"
  }
 },
 "nbformat": 4,
 "nbformat_minor": 2
}
