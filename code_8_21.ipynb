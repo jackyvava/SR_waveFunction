{
 "cells": [
  {
   "cell_type": "code",
   "execution_count": 1,
   "metadata": {},
   "outputs": [],
   "source": [
    "from scipy.io import loadmat"
   ]
  },
  {
   "cell_type": "code",
   "execution_count": 2,
   "metadata": {},
   "outputs": [],
   "source": [
    "data_u = loadmat('D:\\\\zjPhD\\\\paper\\\\chern2017\\\\code\\\\ClebschCodes\\\\implementations\\\\flow_data\\\\delta-40\\\\uu_reshaped.mat')\n",
    "data_v =   loadmat('D:\\\\zjPhD\\\\paper\\\\chern2017\\\\code\\\\ClebschCodes\\\\implementations\\\\flow_data\\\\delta-40\\\\vv_reshaped.mat')\n",
    "data_w =   loadmat('D:\\\\zjPhD\\\\paper\\\\chern2017\\\\code\\\\ClebschCodes\\\\implementations\\\\flow_data\\\\delta-40\\\\ww_reshaped.mat')\n",
    "\n",
    "\n",
    "data_x =   loadmat('D:\\\\zjPhD\\\\paper\\\\chern2017\\\\code\\\\ClebschCodes\\\\implementations\\\\flow_data\\\\delta-40\\\\xx_reshaped.mat')\n",
    "data_y =   loadmat('D:\\\\zjPhD\\\\paper\\\\chern2017\\\\code\\\\ClebschCodes\\\\implementations\\\\flow_data\\\\delta-40\\\\yy_reshaped.mat')\n",
    "data_z =   loadmat('D:\\\\zjPhD\\\\paper\\\\chern2017\\\\code\\\\ClebschCodes\\\\implementations\\\\flow_data\\\\delta-40\\\\zz_reshaped.mat')\n",
    "\n",
    "\n",
    "\n"
   ]
  },
  {
   "cell_type": "code",
   "execution_count": 3,
   "metadata": {},
   "outputs": [
    {
     "name": "stdout",
     "output_type": "stream",
     "text": [
      "uu shape: (128, 41, 41)\n",
      "vv shape: (128, 41, 41)\n",
      "ww shape: (128, 41, 41)\n",
      "xx shape: (128, 41, 41)\n",
      "yy shape: (128, 41, 41)\n",
      "zz shape: (128, 41, 41)\n"
     ]
    }
   ],
   "source": [
    "uu = data_u['uu_reshaped']\n",
    "vv = data_v['vv_reshaped']\n",
    "ww = data_w['ww_reshaped']\n",
    "\n",
    "xx = data_x['xx_reshaped']\n",
    "yy = data_y['yy_reshaped']\n",
    "zz = data_z['zz_reshaped']\n",
    "\n",
    "print('uu shape:', uu.shape)\n",
    "print('vv shape:', vv.shape)\n",
    "print('ww shape:', ww.shape)\n",
    "\n",
    "print('xx shape:', xx.shape)\n",
    "print('yy shape:', yy.shape)\n",
    "print('zz shape:', zz.shape)"
   ]
  }
 ],
 "metadata": {
  "kernelspec": {
   "display_name": "pytorch",
   "language": "python",
   "name": "python3"
  },
  "language_info": {
   "codemirror_mode": {
    "name": "ipython",
    "version": 3
   },
   "file_extension": ".py",
   "mimetype": "text/x-python",
   "name": "python",
   "nbconvert_exporter": "python",
   "pygments_lexer": "ipython3",
   "version": "3.9.19"
  }
 },
 "nbformat": 4,
 "nbformat_minor": 2
}
